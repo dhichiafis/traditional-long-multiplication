{
 "cells": [
  {
   "cell_type": "code",
   "execution_count": 18,
   "id": "83ac69d6",
   "metadata": {},
   "outputs": [
    {
     "name": "stdout",
     "output_type": "stream",
     "text": [
      "152507454\n"
     ]
    }
   ],
   "source": [
    "#we are implementing traditional multiplication in python \n",
    "#as we loop throught the number that provides corresponding values for multiplication \n",
    "#we need a variable that holds the incremental basis of 10 and that is where our productinc come about\n",
    "#to keep track of our process incrementing \n",
    "#its good to reinforce while loops and the python % ,// and / operators\n",
    "number2=1239898\n",
    "number1=123\n",
    "productinc=1\n",
    "sum=0\n",
    "while number2!=0:\n",
    "    multiplier=number2%10\n",
    "    product=multiplier*number1*productinc\n",
    "    sum=sum+product\n",
    "    productinc=productinc*10\n",
    "    number2=number2//10\n",
    "    \n",
    "print(sum)"
   ]
  },
  {
   "cell_type": "code",
   "execution_count": 13,
   "id": "bd1ffe3f",
   "metadata": {},
   "outputs": [
    {
     "name": "stdout",
     "output_type": "stream",
     "text": [
      "15129\n"
     ]
    }
   ],
   "source": [
    "print(123*123)"
   ]
  },
  {
   "cell_type": "code",
   "execution_count": null,
   "id": "2d87d77e",
   "metadata": {},
   "outputs": [],
   "source": []
  }
 ],
 "metadata": {
  "kernelspec": {
   "display_name": "Python 3 (ipykernel)",
   "language": "python",
   "name": "python3"
  },
  "language_info": {
   "codemirror_mode": {
    "name": "ipython",
    "version": 3
   },
   "file_extension": ".py",
   "mimetype": "text/x-python",
   "name": "python",
   "nbconvert_exporter": "python",
   "pygments_lexer": "ipython3",
   "version": "3.11.5"
  }
 },
 "nbformat": 4,
 "nbformat_minor": 5
}
